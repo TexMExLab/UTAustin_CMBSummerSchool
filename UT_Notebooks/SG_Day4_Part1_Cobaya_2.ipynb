{
 "cells": [
  {
   "cell_type": "markdown",
   "id": "eba761ea-8e24-4b8b-99e4-20d88ed36adf",
   "metadata": {},
   "source": [
    "This notebook is for running cobaya for Planck, Planck + BAO likelihood with LCDM and LCDM + Neutrino mass model"
   ]
  },
  {
   "cell_type": "code",
   "execution_count": 7,
   "id": "487f0685-2829-464e-97f3-04da317d4b4c",
   "metadata": {},
   "outputs": [],
   "source": [
    "from cobaya.run import run\n",
    "from cobaya.yaml import yaml_load_file\n",
    "from cobaya.samplers.mcmc import plot_progress\n",
    "import matplotlib.pyplot as plt"
   ]
  },
  {
   "cell_type": "markdown",
   "id": "80a55e74-5628-4e7d-840a-3f0967e7262c",
   "metadata": {},
   "source": [
    "Necessary packages: cobaya, getdist, classy"
   ]
  },
  {
   "cell_type": "markdown",
   "id": "1c8eec71-8673-451c-a2c8-88538f9310e4",
   "metadata": {},
   "source": [
    "Setting up the environment by installing cosmology likelihood :\n",
    "\n",
    "To keep it light, maintainable and easily extensible, cobaya does not include code or data of many of the cosmological components used; instead, it provides interfaces and automatic installers for the external packages they require: the original code itself, a cosmological dataset, etc. source: https://cobaya.readthedocs.io/en/latest/installation_cosmo.html"
   ]
  },
  {
   "cell_type": "raw",
   "id": "a64d8397-5481-480b-b2fe-b808a508a8c7",
   "metadata": {},
   "source": [
    "# Shell command. Go to a directory where you want to put your likelihood codes\n",
    "$ mkdir cosmo \n",
    "$ cobaya-install cosmo -p cosmodir/ --skip classy\n",
    "# We are skipping classy since we already install CLASS (classy)"
   ]
  },
  {
   "cell_type": "markdown",
   "id": "8f65d2ea-b330-4fdb-ba05-e6bb060cbe10",
   "metadata": {},
   "source": [
    "Now we have the likelihood installed. Let's set up the input yaml file. Creating from scratch the input for a realistic cosmological case is quite a bit of work. But to make it simpler, Cobaya created an automatic input generator, that you can run from the shell as:"
   ]
  },
  {
   "cell_type": "raw",
   "id": "2f477b01-5585-49fb-92b8-92312e9d37a3",
   "metadata": {},
   "source": [
    "# Shell command\n",
    "$ cobaya-cosmo-generator"
   ]
  },
  {
   "cell_type": "markdown",
   "id": "a34a7ab4-bc19-432a-9052-351501b7f30d",
   "metadata": {},
   "source": [
    "A sample LCDM input file is supplied in the directory as Planck_LCDM.yaml"
   ]
  },
  {
   "cell_type": "code",
   "execution_count": 4,
   "id": "164a2a91-1d77-4ee2-bfe5-9bc189f1be89",
   "metadata": {},
   "outputs": [],
   "source": [
    "PlLC_info = yaml_load_file(\"Planck_LCDM/Planck_LCDM.yaml\")"
   ]
  },
  {
   "cell_type": "code",
   "execution_count": 5,
   "id": "063a8c7c-6bfb-478f-9ead-8a9bb1374c9f",
   "metadata": {},
   "outputs": [
    {
     "data": {
      "text/plain": [
       "{'theory': {'classy': {'extra_args': {'non linear': 'hmcode',\n",
       "    'nonlinear_min_k_max': 20,\n",
       "    'N_ncdm': 1,\n",
       "    'N_ur': 2.0328}}},\n",
       " 'likelihood': {'planck_2018_lowl.TT': None,\n",
       "  'planck_2018_lowl.EE': None,\n",
       "  'planck_NPIPE_highl_CamSpec.TTTEEE': None,\n",
       "  'planckpr4lensing': {'package_install': {'github_repository': 'carronj/planck_PR4_lensing',\n",
       "    'min_version': '1.0.2'}}},\n",
       " 'params': {'logA': {'prior': {'min': 1.61, 'max': 3.91},\n",
       "   'ref': {'dist': 'norm', 'loc': 3.05, 'scale': 0.001},\n",
       "   'proposal': 0.001,\n",
       "   'latex': '\\\\log(10^{10} A_\\\\mathrm{s})',\n",
       "   'drop': True},\n",
       "  'A_s': {'value': 'lambda logA: 1e-10*np.exp(logA)',\n",
       "   'latex': 'A_\\\\mathrm{s}'},\n",
       "  'n_s': {'prior': {'min': 0.8, 'max': 1.2},\n",
       "   'ref': {'dist': 'norm', 'loc': 0.965, 'scale': 0.004},\n",
       "   'proposal': 0.002,\n",
       "   'latex': 'n_\\\\mathrm{s}'},\n",
       "  'H0': {'prior': {'min': 20, 'max': 100},\n",
       "   'ref': {'dist': 'norm', 'loc': 67, 'scale': 2},\n",
       "   'proposal': 2,\n",
       "   'latex': 'H_0'},\n",
       "  'omega_b': {'prior': {'min': 0.005, 'max': 0.1},\n",
       "   'ref': {'dist': 'norm', 'loc': 0.0224, 'scale': 0.0001},\n",
       "   'proposal': 0.0001,\n",
       "   'latex': '\\\\Omega_\\\\mathrm{b} h^2'},\n",
       "  'omega_cdm': {'prior': {'min': 0.001, 'max': 0.99},\n",
       "   'ref': {'dist': 'norm', 'loc': 0.12, 'scale': 0.001},\n",
       "   'proposal': 0.0005,\n",
       "   'latex': '\\\\Omega_\\\\mathrm{c} h^2'},\n",
       "  'Omega_m': {'latex': '\\\\Omega_\\\\mathrm{m}'},\n",
       "  'omegamh2': {'derived': 'lambda Omega_m, H0: Omega_m*(H0/100)**2',\n",
       "   'latex': '\\\\Omega_\\\\mathrm{m} h^2'},\n",
       "  'm_ncdm': {'value': 0.06, 'renames': 'mnu'},\n",
       "  'Omega_Lambda': {'latex': '\\\\Omega_\\\\Lambda'},\n",
       "  'YHe': {'latex': 'Y_\\\\mathrm{P}'},\n",
       "  'tau_reio': {'prior': {'min': 0.01, 'max': 0.8},\n",
       "   'ref': {'dist': 'norm', 'loc': 0.055, 'scale': 0.006},\n",
       "   'proposal': 0.003,\n",
       "   'latex': '\\\\tau_\\\\mathrm{reio}'},\n",
       "  'z_reio': {'latex': 'z_\\\\mathrm{re}'},\n",
       "  'sigma8': {'latex': '\\\\sigma_8'},\n",
       "  's8h5': {'derived': 'lambda sigma8, H0: sigma8*(H0*1e-2)**(-0.5)',\n",
       "   'latex': '\\\\sigma_8/h^{0.5}'},\n",
       "  's8omegamp5': {'derived': 'lambda sigma8, Omega_m: sigma8*Omega_m**0.5',\n",
       "   'latex': '\\\\sigma_8 \\\\Omega_\\\\mathrm{m}^{0.5}'},\n",
       "  's8omegamp25': {'derived': 'lambda sigma8, Omega_m: sigma8*Omega_m**0.25',\n",
       "   'latex': '\\\\sigma_8 \\\\Omega_\\\\mathrm{m}^{0.25}'},\n",
       "  'A': {'derived': 'lambda A_s: 1e9*A_s', 'latex': '10^9 A_\\\\mathrm{s}'},\n",
       "  'clamp': {'derived': 'lambda A_s, tau_reio: 1e9*A_s*np.exp(-2*tau_reio)',\n",
       "   'latex': '10^9 A_\\\\mathrm{s} e^{-2\\\\tau}'},\n",
       "  'age': {'latex': '{\\\\rm{Age}}/\\\\mathrm{Gyr}'},\n",
       "  'rs_drag': {'latex': 'r_\\\\mathrm{drag}'}},\n",
       " 'sampler': {'mcmc': {'covmat': 'auto',\n",
       "   'drag': True,\n",
       "   'oversample_power': 0.4,\n",
       "   'proposal_scale': 1.9,\n",
       "   'Rminus1_stop': 0.01,\n",
       "   'Rminus1_cl_stop': 0.2}}}"
      ]
     },
     "execution_count": 5,
     "metadata": {},
     "output_type": "execute_result"
    }
   ],
   "source": [
    "PlLC_info"
   ]
  },
  {
   "cell_type": "markdown",
   "id": "fa989492-e53e-463a-8ce1-e9e2a9f0075a",
   "metadata": {},
   "source": [
    "Now let's try running it from shell"
   ]
  },
  {
   "cell_type": "raw",
   "id": "4bad1e0c-bb6a-4745-a434-9835da8e4663",
   "metadata": {},
   "source": [
    "$ cd Planck_LCDM\n",
    "$ cobaya-run Planck_LCDM.yaml"
   ]
  },
  {
   "cell_type": "markdown",
   "id": "fb9a29a5-ea09-4423-94fe-b7f6b579df0f",
   "metadata": {},
   "source": [
    "Monitoring Progress"
   ]
  },
  {
   "cell_type": "code",
   "execution_count": 10,
   "id": "26ed7f57-11fc-4ff6-8e66-8119c3322c7d",
   "metadata": {},
   "outputs": [
    {
     "data": {
      "image/png": "[encoded data removed]",
      "text/plain": [
       "<Figure size 640x480 with 2 Axes>"
      ]
     },
     "metadata": {},
     "output_type": "display_data"
    }
   ],
   "source": [
    "plot_progress(\"Planck_LCDM/Planck_LCDM\")\n",
    "plt.tight_layout()\n",
    "plt.show()"
   ]
  },
  {
   "cell_type": "markdown",
   "id": "11562688-236c-4bae-bd1b-10ad572ac83a",
   "metadata": {},
   "source": [
    "Now lets run Planck + ACT Likelihood"
   ]
  },
  {
   "cell_type": "code",
   "execution_count": 14,
   "id": "8d85dac5-82d8-4697-809a-e52df120fed1",
   "metadata": {},
   "outputs": [
    {
     "data": {
      "text/plain": [
       "{'likelihood': {'pyactlike.ACTPol_lite_DR4': {'components': ['tt', 'te', 'ee'],\n",
       "   'lmax': 6000},\n",
       "  'planck_2018_lowl.TT': None,\n",
       "  'planck_2018_lowl.EE': None,\n",
       "  'planck_NPIPE_highl_CamSpec.TTTEEE': None,\n",
       "  'planckpr4lensing': {'package_install': {'github_repository': 'carronj/planck_PR4_lensing',\n",
       "    'min_version': '1.0.2'}}},\n",
       " 'theory': {'classy': {'extra_args': {'non linear': 'hmcode',\n",
       "    'nonlinear_min_k_max': 20,\n",
       "    'N_ncdm': 1,\n",
       "    'N_ur': 2.0328}}},\n",
       " 'params': {'logA': {'prior': {'min': 1.61, 'max': 3.91},\n",
       "   'ref': {'dist': 'norm', 'loc': 3.05, 'scale': 0.001},\n",
       "   'proposal': 0.001,\n",
       "   'latex': '\\\\log(10^{10} A_\\\\mathrm{s})',\n",
       "   'drop': True},\n",
       "  'A_s': {'value': 'lambda logA: 1e-10*np.exp(logA)',\n",
       "   'latex': 'A_\\\\mathrm{s}'},\n",
       "  'n_s': {'prior': {'min': 0.8, 'max': 1.2},\n",
       "   'ref': {'dist': 'norm', 'loc': 0.965, 'scale': 0.004},\n",
       "   'proposal': 0.002,\n",
       "   'latex': 'n_\\\\mathrm{s}'},\n",
       "  'H0': {'prior': {'min': 20, 'max': 100},\n",
       "   'ref': {'dist': 'norm', 'loc': 67, 'scale': 2},\n",
       "   'proposal': 2,\n",
       "   'latex': 'H_0'},\n",
       "  'omega_b': {'prior': {'min': 0.005, 'max': 0.1},\n",
       "   'ref': {'dist': 'norm', 'loc': 0.0224, 'scale': 0.0001},\n",
       "   'proposal': 0.0001,\n",
       "   'latex': '\\\\Omega_\\\\mathrm{b} h^2'},\n",
       "  'omega_cdm': {'prior': {'min': 0.001, 'max': 0.99},\n",
       "   'ref': {'dist': 'norm', 'loc': 0.12, 'scale': 0.001},\n",
       "   'proposal': 0.0005,\n",
       "   'latex': '\\\\Omega_\\\\mathrm{c} h^2'},\n",
       "  'Omega_m': {'latex': '\\\\Omega_\\\\mathrm{m}'},\n",
       "  'omegamh2': {'derived': 'lambda Omega_m, H0: Omega_m*(H0/100)**2',\n",
       "   'latex': '\\\\Omega_\\\\mathrm{m} h^2'},\n",
       "  'm_ncdm': {'value': 0.06, 'renames': 'mnu'},\n",
       "  'Omega_Lambda': {'latex': '\\\\Omega_\\\\Lambda'},\n",
       "  'YHe': {'latex': 'Y_\\\\mathrm{P}'},\n",
       "  'tau_reio': {'prior': {'min': 0.01, 'max': 0.8},\n",
       "   'ref': {'dist': 'norm', 'loc': 0.055, 'scale': 0.006},\n",
       "   'proposal': 0.003,\n",
       "   'latex': '\\\\tau_\\\\mathrm{reio}'},\n",
       "  'z_reio': {'latex': 'z_\\\\mathrm{re}'},\n",
       "  'sigma8': {'latex': '\\\\sigma_8'},\n",
       "  's8h5': {'derived': 'lambda sigma8, H0: sigma8*(H0*1e-2)**(-0.5)',\n",
       "   'latex': '\\\\sigma_8/h^{0.5}'},\n",
       "  's8omegamp5': {'derived': 'lambda sigma8, Omega_m: sigma8*Omega_m**0.5',\n",
       "   'latex': '\\\\sigma_8 \\\\Omega_\\\\mathrm{m}^{0.5}'},\n",
       "  's8omegamp25': {'derived': 'lambda sigma8, Omega_m: sigma8*Omega_m**0.25',\n",
       "   'latex': '\\\\sigma_8 \\\\Omega_\\\\mathrm{m}^{0.25}'},\n",
       "  'A': {'derived': 'lambda A_s: 1e9*A_s', 'latex': '10^9 A_\\\\mathrm{s}'},\n",
       "  'clamp': {'derived': 'lambda A_s, tau_reio: 1e9*A_s*np.exp(-2*tau_reio)',\n",
       "   'latex': '10^9 A_\\\\mathrm{s} e^{-2\\\\tau}'},\n",
       "  'age': {'latex': '{\\\\rm{Age}}/\\\\mathrm{Gyr}'},\n",
       "  'rs_drag': {'latex': 'r_\\\\mathrm{drag}'},\n",
       "  'yp2': {'prior': {'min': 0.5, 'max': 1.5}}},\n",
       " 'sampler': {'mcmc': {'covmat': 'auto',\n",
       "   'drag': True,\n",
       "   'oversample_power': 0.4,\n",
       "   'proposal_scale': 1.9,\n",
       "   'Rminus1_stop': 0.01,\n",
       "   'Rminus1_cl_stop': 0.2}}}"
      ]
     },
     "execution_count": 14,
     "metadata": {},
     "output_type": "execute_result"
    }
   ],
   "source": [
    "PlLCACT_info = yaml_load_file(\"Planck+ACT_LCDM/Planck+ACT_LCDM.yaml\")\n",
    "PlLCACT_info"
   ]
  },
  {
   "cell_type": "raw",
   "id": "10c9fd3b-4219-4de2-ae37-61edf00c118c",
   "metadata": {},
   "source": [
    "$ cd Planck+ACT_LCDM\n",
    "$ cobaya-run Planck+ACT_LCDM.yaml"
   ]
  },
  {
   "cell_type": "markdown",
   "id": "04e8a5a8-fe3c-40de-86dd-7d54159db9e6",
   "metadata": {},
   "source": [
    "Did it run? Probably not. It gave you an error.\n",
    "\n",
    "<font color='red'>Exercise:</font> Fix the error! "
   ]
  },
  {
   "cell_type": "code",
   "execution_count": null,
   "id": "77ad527c-7cc9-4e39-bba3-e24e7f3c2ffc",
   "metadata": {},
   "outputs": [],
   "source": []
  }
 ],
 "metadata": {
  "kernelspec": {
   "display_name": "Python 3 (ipykernel)",
   "language": "python",
   "name": "python3"
  },
  "language_info": {
   "codemirror_mode": {
    "name": "ipython",
    "version": 3
   },
   "file_extension": ".py",
   "mimetype": "text/x-python",
   "name": "python",
   "nbconvert_exporter": "python",
   "pygments_lexer": "ipython3",
   "version": "3.10.13"
  }
 },
 "nbformat": 4,
 "nbformat_minor": 5
}
