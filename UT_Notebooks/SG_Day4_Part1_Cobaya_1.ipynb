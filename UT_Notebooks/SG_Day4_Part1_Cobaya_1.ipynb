{
 "cells": [
  {
   "cell_type": "markdown",
   "id": "604faf60-ea67-4170-8bfc-fbfc46d7dc8e",
   "metadata": {},
   "source": [
    "This notebook is for running cobaya. Cobaya is a MCMC sampler primarily used for cosmological analysis. Source: https://cobaya.readthedocs.io/en/latest/example.html#from-the-shell\n",
    "\n",
    "The input of cobaya consists of a text file that usually looks like this:\n",
    "\n",
    "A likelihood block, listing the likelihood pdf’s to be explored, here a gaussian with the mean and covariance stated.\n",
    "\n",
    "A params block, stating the parameters that are going to be explored (or derived), their prior, the the Latex label that will be used in the plots, the reference (ref) starting point for the chains (optional), and the initial spread of the MCMC covariance matrix proposal.\n",
    "\n",
    "A sampler block stating that we will use the mcmc sampler to explore the prior+likelihood described above, stating the maximum number of samples used, how many initial samples to ignore, and that we will sequentially refine our initial guess for a covariance matrix.\n",
    "\n",
    "An output prefix, indicating where the products will be written and a prefix for their name."
   ]
  },
  {
   "cell_type": "raw",
   "id": "ebcc0de5-a39c-4ed2-b882-59c21465f44c",
   "metadata": {},
   "source": [
    "likelihood:\n",
    "  gaussian_mixture:\n",
    "    means: [0.2, 0]\n",
    "    covs: [[0.1, 0.05], [0.05,0.2]]\n",
    "    derived: True\n",
    "\n",
    "params:\n",
    "  a:\n",
    "    prior:\n",
    "      min: -0.5\n",
    "      max: 3\n",
    "    latex: \\alpha\n",
    "  b:\n",
    "    prior:\n",
    "      dist: norm\n",
    "      loc: 0\n",
    "      scale: 1\n",
    "    ref: 0\n",
    "    proposal: 0.5\n",
    "    latex: \\beta\n",
    "  derived_a:\n",
    "    latex: \\alpha^\\prime\n",
    "  derived_b:\n",
    "    latex: \\beta^\\prime\n",
    "\n",
    "sampler:\n",
    "  mcmc:\n",
    "\n",
    "output: chains/gaussian"
   ]
  },
  {
   "cell_type": "markdown",
   "id": "d8c897db-fc85-4b1d-9aa6-24f1c8427ce1",
   "metadata": {},
   "source": [
    "To run this example, save the text above in a file called gaussian.yaml in a folder of your choice, and do"
   ]
  },
  {
   "cell_type": "raw",
   "id": "8d60fe61-42e0-430c-b53d-03fcee74abf8",
   "metadata": {},
   "source": [
    "$ cobaya-run gaussian.yaml"
   ]
  },
  {
   "cell_type": "markdown",
   "id": "05be70b9-9d35-447e-bc60-620f4713af7a",
   "metadata": {},
   "source": [
    "Below we will run the example in the Jupyter Notebook"
   ]
  },
  {
   "cell_type": "code",
   "execution_count": 22,
   "id": "d35f7110-06de-4679-8e1a-14afd1de75ff",
   "metadata": {},
   "outputs": [],
   "source": [
    "from cobaya.run import run\n",
    "from cobaya.yaml import yaml_load_file\n",
    "import getdist.plots as gdplt\n",
    "from cobaya import load_samples"
   ]
  },
  {
   "cell_type": "code",
   "execution_count": 8,
   "id": "d3de35c5-d462-405f-841e-8f0c12acb43f",
   "metadata": {},
   "outputs": [
    {
     "data": {
      "text/plain": [
       "{'likelihood': {'gaussian_mixture': {'means': [0.2, 0],\n",
       "   'covs': [[0.1, 0.05], [0.05, 0.2]],\n",
       "   'derived': True}},\n",
       " 'params': {'a': {'prior': {'min': -0.5, 'max': 3}, 'latex': '\\\\alpha'},\n",
       "  'b': {'prior': {'dist': 'norm', 'loc': 0, 'scale': 1},\n",
       "   'ref': 0,\n",
       "   'proposal': 0.5,\n",
       "   'latex': '\\\\beta'},\n",
       "  'derived_a': {'latex': '\\\\alpha^\\\\prime'},\n",
       "  'derived_b': {'latex': '\\\\beta^\\\\prime'}},\n",
       " 'sampler': {'mcmc': None},\n",
       " 'output': 'chains/gaussian'}"
      ]
     },
     "execution_count": 8,
     "metadata": {},
     "output_type": "execute_result"
    }
   ],
   "source": [
    "info = yaml_load_file(\"gaussian.yaml\")\n",
    "info"
   ]
  },
  {
   "cell_type": "code",
   "execution_count": 9,
   "id": "5d05e85a-ef80-4421-b9fe-7f5cc2a4ccbd",
   "metadata": {},
   "outputs": [
    {
     "name": "stdout",
     "output_type": "stream",
     "text": [
      "[output] Output to be read-from/written-into folder 'chains', with prefix 'gaussian'\n",
      "[mcmc] Getting initial point... (this may take a few seconds)\n",
      "[prior] Reference values or pdfs for some parameters were not provided. Sampling from the prior instead for those parameters.\n",
      "[mcmc] Initial point: a:0.2114405, b:0\n",
      "[model] Measuring speeds... (this may take a few seconds)\n",
      "[model] Setting measured speeds (per sec): {gaussian_mixture: 14500.0}\n",
      "[prior] *WARNING* Reference pdf not defined or improper for some parameters. Using prior's sigma instead for them.\n",
      "[mcmc] Covariance matrix not present. We will start learning the covariance of the proposal earlier: R-1 = 30 (would be 2 if all params loaded).\n",
      "[mcmc] Sampling!\n",
      "[mcmc] Progress @ 2024-04-26 22:13:21 : 1 steps taken, and 0 accepted.\n",
      "[mcmc] Learn + convergence test @ 80 samples accepted.\n",
      "[mcmc]  - Acceptance rate: 0.170\n",
      "[mcmc]  - Convergence of means: R-1 = 0.134281 after 64 accepted steps\n",
      "[mcmc]  - Updated covariance matrix of proposal pdf.\n",
      "[mcmc] Learn + convergence test @ 160 samples accepted.\n",
      "[mcmc]  - Acceptance rate: 0.272\n",
      "[mcmc]  - Convergence of means: R-1 = 0.067159 after 128 accepted steps\n",
      "[mcmc]  - Updated covariance matrix of proposal pdf.\n",
      "[mcmc] Learn + convergence test @ 240 samples accepted.\n",
      "[mcmc]  - Acceptance rate: 0.304\n",
      "[mcmc]  - Convergence of means: R-1 = 0.100074 after 192 accepted steps\n",
      "[mcmc]  - Updated covariance matrix of proposal pdf.\n",
      "[mcmc] Learn + convergence test @ 320 samples accepted.\n",
      "[mcmc]  - Acceptance rate: 0.325\n",
      "[mcmc]  - Convergence of means: R-1 = 0.084786 after 256 accepted steps\n",
      "[mcmc]  - Updated covariance matrix of proposal pdf.\n",
      "[mcmc] Learn + convergence test @ 400 samples accepted.\n",
      "[mcmc]  - Acceptance rate: 0.327\n",
      "[mcmc]  - Convergence of means: R-1 = 0.029734 after 320 accepted steps\n",
      "[mcmc]  - Updated covariance matrix of proposal pdf.\n",
      "[mcmc] Learn + convergence test @ 480 samples accepted.\n",
      "[mcmc]  - Acceptance rate: 0.319\n",
      "[mcmc]  - Convergence of means: R-1 = 0.035051 after 384 accepted steps\n",
      "[mcmc]  - Updated covariance matrix of proposal pdf.\n",
      "[mcmc] Learn + convergence test @ 560 samples accepted.\n",
      "[mcmc]  - Acceptance rate: 0.318\n",
      "[mcmc]  - Convergence of means: R-1 = 0.033285 after 448 accepted steps\n",
      "[mcmc]  - Updated covariance matrix of proposal pdf.\n",
      "[mcmc] Learn + convergence test @ 640 samples accepted.\n",
      "[mcmc]  - Acceptance rate: 0.310\n",
      "[mcmc]  - Convergence of means: R-1 = 0.018979 after 512 accepted steps\n",
      "[mcmc]  - Updated covariance matrix of proposal pdf.\n",
      "[mcmc] Learn + convergence test @ 720 samples accepted.\n",
      "[mcmc]  - Acceptance rate: 0.304\n",
      "[mcmc]  - Convergence of means: R-1 = 0.015486 after 576 accepted steps\n",
      "[mcmc]  - Updated covariance matrix of proposal pdf.\n",
      "[mcmc] Learn + convergence test @ 800 samples accepted.\n",
      "[mcmc]  - Acceptance rate: 0.297\n",
      "[mcmc]  - Convergence of means: R-1 = 0.012593 after 640 accepted steps\n",
      "[mcmc]  - Updated covariance matrix of proposal pdf.\n",
      "[mcmc] Learn + convergence test @ 880 samples accepted.\n",
      "[mcmc]  - Acceptance rate: 0.299\n",
      "[mcmc]  - Convergence of means: R-1 = 0.009147 after 704 accepted steps\n",
      "[mcmc]  - Updated covariance matrix of proposal pdf.\n",
      "[mcmc] Learn + convergence test @ 960 samples accepted.\n",
      "[mcmc]  - Acceptance rate: 0.298\n",
      "[mcmc]  - Convergence of means: R-1 = 0.007877 after 768 accepted steps\n",
      "[mcmc]  - Convergence of bounds: R-1 = 0.122266 after 960 accepted steps\n",
      "[mcmc] The run has converged!\n",
      "[mcmc] Sampling complete after 960 accepted steps.\n"
     ]
    }
   ],
   "source": [
    "updated_info, sampler = run(info)"
   ]
  },
  {
   "cell_type": "code",
   "execution_count": 10,
   "id": "59b6ebec-ab9f-4017-a5ce-1174bf3a4007",
   "metadata": {},
   "outputs": [
    {
     "data": {
      "text/plain": [
       "{'sampler': {'mcmc': {'burn_in': 0,\n",
       "   'max_tries': '40d',\n",
       "   'covmat': None,\n",
       "   'covmat_params': None,\n",
       "   'proposal_scale': 2.4,\n",
       "   'output_every': '60s',\n",
       "   'learn_every': '40d',\n",
       "   'temperature': 1,\n",
       "   'learn_proposal': True,\n",
       "   'learn_proposal_Rminus1_max': 2.0,\n",
       "   'learn_proposal_Rminus1_max_early': 30.0,\n",
       "   'learn_proposal_Rminus1_min': 0.0,\n",
       "   'max_samples': inf,\n",
       "   'Rminus1_stop': 0.01,\n",
       "   'Rminus1_cl_stop': 0.2,\n",
       "   'Rminus1_cl_level': 0.95,\n",
       "   'Rminus1_single_split': 4,\n",
       "   'measure_speeds': True,\n",
       "   'oversample_power': 0.4,\n",
       "   'oversample_thin': True,\n",
       "   'drag': False,\n",
       "   'blocking': [(1, ['a', 'b'])],\n",
       "   'callback_function': None,\n",
       "   'callback_every': None,\n",
       "   'seed': None,\n",
       "   'check_every': None,\n",
       "   'oversample': None,\n",
       "   'drag_limits': None,\n",
       "   'fallback_covmat_scale': 4,\n",
       "   'version': '3.5'}},\n",
       " 'likelihood': {'gaussian_mixture': {'means': [0.2, 0],\n",
       "   'covs': [[0.1, 0.05], [0.05, 0.2]],\n",
       "   'weights': None,\n",
       "   'input_params_prefix': '',\n",
       "   'output_params_prefix': '',\n",
       "   'derived': True,\n",
       "   'delay': 0,\n",
       "   'type': [],\n",
       "   'speed': -1,\n",
       "   'stop_at_error': False,\n",
       "   'version': None,\n",
       "   'input_params': ['a', 'b'],\n",
       "   'output_params': ['derived_a', 'derived_b']}},\n",
       " 'params': {'a': {'prior': {'min': -0.5, 'max': 3}, 'latex': '\\\\alpha'},\n",
       "  'b': {'prior': {'dist': 'norm', 'loc': 0, 'scale': 1},\n",
       "   'ref': 0,\n",
       "   'proposal': 0.5,\n",
       "   'latex': '\\\\beta'},\n",
       "  'derived_a': {'latex': '\\\\alpha^\\\\prime', 'derived': True},\n",
       "  'derived_b': {'latex': '\\\\beta^\\\\prime', 'derived': True}},\n",
       " 'output': 'chains/gaussian',\n",
       " 'theory': None}"
      ]
     },
     "execution_count": 10,
     "metadata": {},
     "output_type": "execute_result"
    }
   ],
   "source": [
    "updated_info"
   ]
  },
  {
   "cell_type": "code",
   "execution_count": 12,
   "id": "3365fc1f-c2d3-473c-9766-fbee43442e65",
   "metadata": {},
   "outputs": [
    {
     "data": {
      "text/plain": [
       "{'sample':      weight  minuslogpost         a         b  derived_a  derived_b  \\\n",
       " 0       4.0      2.225184  0.183036 -0.272869  -0.053646  -0.632004   \n",
       " 1       2.0      2.345569  0.224669 -0.314989   0.078011  -0.782453   \n",
       " 2       6.0      2.109341  0.099203  0.102184  -0.318750   0.364743   \n",
       " 3       1.0      3.229196 -0.243801  0.076648  -1.403422   0.713667   \n",
       " 4       1.0      3.196281 -0.198947 -0.513541  -1.261580  -0.750766   \n",
       " ..      ...           ...       ...       ...        ...        ...   \n",
       " 955     3.0      2.588540  0.540363  0.199900   1.076323   0.071040   \n",
       " 956     4.0      4.481058  0.189356 -0.866387  -0.033660  -2.058338   \n",
       " 957     4.0      3.363500 -0.181944 -0.596336  -1.207812  -0.969005   \n",
       " 958     3.0      3.141149 -0.228778 -0.435840  -1.355917  -0.529368   \n",
       " 959     1.0      3.603982 -0.261711 -0.593286  -1.460058  -0.866374   \n",
       " \n",
       "      minuslogprior  minuslogprior__0      chi2  chi2__gaussian_mixture  \n",
       " 0         2.208930          2.208930  0.032507                0.032507  \n",
       " 1         2.221310          2.221310  0.248518                0.248518  \n",
       " 2         2.176922          2.176922 -0.135162               -0.135162  \n",
       " 3         2.174639          2.174639  2.109114                2.109114  \n",
       " 4         2.303564          2.303564  1.785435                1.785435  \n",
       " ..             ...               ...       ...                     ...  \n",
       " 955       2.191681          2.191681  0.793718                0.793718  \n",
       " 956       2.547014          2.547014  3.868088                3.868088  \n",
       " 957       2.349510          2.349510  2.027981                2.027981  \n",
       " 958       2.266680          2.266680  1.748940                1.748940  \n",
       " 959       2.347695          2.347695  2.512574                2.512574  \n",
       " \n",
       " [960 rows x 10 columns],\n",
       " 'progress':         N                   timestamp acceptance_rate   Rminus1 Rminus1_cl\n",
       " 1    64.0  2024-04-26T22:13:21.736795        0.170213  0.134281        NaN\n",
       " 2   128.0  2024-04-26T22:13:21.810859        0.271762  0.067159        NaN\n",
       " 3   192.0  2024-04-26T22:13:21.846655        0.304279  0.100074        NaN\n",
       " 4   256.0  2024-04-26T22:13:21.867815        0.324873  0.084786        NaN\n",
       " 5   320.0  2024-04-26T22:13:21.889087        0.326864  0.029734        NaN\n",
       " 6   384.0  2024-04-26T22:13:21.927928        0.319468  0.035051        NaN\n",
       " 7   448.0  2024-04-26T22:13:21.951494        0.318408  0.033285        NaN\n",
       " 8   512.0  2024-04-26T22:13:21.974408        0.310303  0.018979        NaN\n",
       " 9   576.0  2024-04-26T22:13:21.996073        0.303637  0.015486        NaN\n",
       " 10  640.0  2024-04-26T22:13:22.021056        0.296846  0.012593        NaN\n",
       " 11  704.0  2024-04-26T22:13:22.052773        0.298812  0.009147        NaN\n",
       " 12  768.0  2024-04-26T22:13:22.083049        0.298368  0.007877   0.122266}"
      ]
     },
     "execution_count": 12,
     "metadata": {},
     "output_type": "execute_result"
    }
   ],
   "source": [
    "sampler.products()"
   ]
  },
  {
   "cell_type": "code",
   "execution_count": 17,
   "id": "92276723-835d-4193-829c-e34078fed429",
   "metadata": {},
   "outputs": [
    {
     "name": "stdout",
     "output_type": "stream",
     "text": [
      "[root] *WARNING* outlier fraction 0.12797619047619047 \n"
     ]
    }
   ],
   "source": [
    "# Export the results to GetDist\n",
    "gd_sample = sampler.products(to_getdist=True,skip_samples=0.3)[\"sample\"]"
   ]
  },
  {
   "cell_type": "code",
   "execution_count": 18,
   "id": "ecf7819e-1253-42c7-8f69-85356424ac46",
   "metadata": {},
   "outputs": [
    {
     "name": "stdout",
     "output_type": "stream",
     "text": [
      "Mean:\n",
      "[ 0.20617089 -0.0372731 ]\n",
      "Covariance matrix:\n",
      "[[0.09696276 0.04571586]\n",
      " [0.04571586 0.17167694]]\n"
     ]
    }
   ],
   "source": [
    "# Analyze and plot\n",
    "mean = gd_sample.getMeans()[:2]\n",
    "covmat = gd_sample.getCovMat().matrix[:2, :2]\n",
    "print(\"Mean:\")\n",
    "print(mean)\n",
    "print(\"Covariance matrix:\")\n",
    "print(covmat)"
   ]
  },
  {
   "cell_type": "code",
   "execution_count": 27,
   "id": "0c61767b-4113-41f4-b609-8771f54fbec7",
   "metadata": {},
   "outputs": [
    {
     "data": {
      "image/png": "[encoded data removed]",
      "text/plain": [
       "<Figure size 400x400 with 3 Axes>"
      ]
     },
     "metadata": {},
     "output_type": "display_data"
    }
   ],
   "source": [
    "gdplot = gdplt.get_subplot_plotter()\n",
    "gdplot.triangle_plot(gd_sample, [\"a\", \"b\"], filled=True, title_limit = True)"
   ]
  },
  {
   "cell_type": "code",
   "execution_count": 26,
   "id": "ae806347-7044-4abc-bfda-564d1b316692",
   "metadata": {},
   "outputs": [
    {
     "name": "stdout",
     "output_type": "stream",
     "text": [
      "[samplecollection] Loaded 960 sample points from 'chains/gaussian.1.txt'\n",
      "[root] *WARNING* outlier fraction 0.13125 \n"
     ]
    }
   ],
   "source": [
    "gd_sample = load_samples(info[\"output\"], to_getdist=True)"
   ]
  },
  {
   "cell_type": "code",
   "execution_count": null,
   "id": "e8d463d7-dd6c-459d-9904-f74bd94eaa54",
   "metadata": {},
   "outputs": [],
   "source": []
  }
 ],
 "metadata": {
  "kernelspec": {
   "display_name": "Python 3 (ipykernel)",
   "language": "python",
   "name": "python3"
  },
  "language_info": {
   "codemirror_mode": {
    "name": "ipython",
    "version": 3
   },
   "file_extension": ".py",
   "mimetype": "text/x-python",
   "name": "python",
   "nbconvert_exporter": "python",
   "pygments_lexer": "ipython3",
   "version": "3.10.13"
  }
 },
 "nbformat": 4,
 "nbformat_minor": 5
}
