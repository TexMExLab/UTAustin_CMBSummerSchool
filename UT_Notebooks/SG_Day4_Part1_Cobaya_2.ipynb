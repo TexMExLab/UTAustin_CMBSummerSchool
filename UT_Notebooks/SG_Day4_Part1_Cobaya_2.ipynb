{
 "cells": [
  {
   "cell_type": "markdown",
   "id": "eba761ea-8e24-4b8b-99e4-20d88ed36adf",
   "metadata": {},
   "source": [
    "This notebook is for running cobaya for Planck, Planck + BAO likelihood with LCDM and LCDM + Neutrino mass model"
   ]
  },
  {
   "cell_type": "markdown",
   "id": "80a55e74-5628-4e7d-840a-3f0967e7262c",
   "metadata": {},
   "source": [
    "Necessary packages: cobaya, getdist, classy"
   ]
  },
  {
   "cell_type": "code",
   "execution_count": null,
   "id": "2c918d6d-d2e2-4f99-a34c-bfcd8d22ba7d",
   "metadata": {},
   "outputs": [],
   "source": []
  }
 ],
 "metadata": {
  "kernelspec": {
   "display_name": "Python 3 (ipykernel)",
   "language": "python",
   "name": "python3"
  },
  "language_info": {
   "codemirror_mode": {
    "name": "ipython",
    "version": 3
   },
   "file_extension": ".py",
   "mimetype": "text/x-python",
   "name": "python",
   "nbconvert_exporter": "python",
   "pygments_lexer": "ipython3",
   "version": "3.10.13"
  }
 },
 "nbformat": 4,
 "nbformat_minor": 5
}
